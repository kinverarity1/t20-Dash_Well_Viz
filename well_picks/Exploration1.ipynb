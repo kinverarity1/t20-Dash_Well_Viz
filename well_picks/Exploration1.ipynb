{
 "cells": [
  {
   "cell_type": "code",
   "execution_count": 123,
   "metadata": {},
   "outputs": [],
   "source": [
    "%load_ext lab_black"
   ]
  },
  {
   "cell_type": "code",
   "execution_count": 1,
   "metadata": {},
   "outputs": [],
   "source": [
    "from jupyter_dash import JupyterDash"
   ]
  },
  {
   "cell_type": "code",
   "execution_count": 50,
   "metadata": {},
   "outputs": [],
   "source": [
    "import dash\n",
    "import dash_core_components as dcc\n",
    "import dash_html_components as html\n",
    "from dash.dependencies import Input, Output\n",
    "\n",
    "import plotly.express as px\n",
    "\n",
    "import pandas as pd\n",
    "import numpy as np"
   ]
  },
  {
   "cell_type": "code",
   "execution_count": 39,
   "metadata": {},
   "outputs": [],
   "source": [
    "sample_depth = np.arange(0, 10*np.pi, .1)\n",
    "sample_log1 = np.sin(sample_depth)\n",
    "sample_log2 = np.sin(sample_depth)"
   ]
  },
  {
   "cell_type": "code",
   "execution_count": 128,
   "metadata": {},
   "outputs": [],
   "source": [
    "external_stylesheets = [\"https://codepen.io/chriddyp/pen/bWLwgP.css\"]\n",
    "\n",
    "app = JupyterDash(__name__, external_stylesheets=external_stylesheets)\n",
    "\n",
    "# Create server variable with Flask server object for use with gunicorn\n",
    "server = app.server"
   ]
  },
  {
   "cell_type": "code",
   "execution_count": 86,
   "metadata": {},
   "outputs": [],
   "source": [
    "styles = {\n",
    "    'pre': {\n",
    "        'border': 'thin lightgrey solid',\n",
    "        'overflowX': 'scroll'\n",
    "    }\n",
    "}"
   ]
  },
  {
   "cell_type": "code",
   "execution_count": 115,
   "metadata": {},
   "outputs": [],
   "source": [
    "title = html.H1('Well Picker')\n",
    "\n",
    "log_plot1 = dcc.Graph(id='well_1', \n",
    "                      figure=px.line(x=sample_log1, y=sample_depth, title='Well 1'),\n",
    "                      style={'width': '50%'},\n",
    "                      )\n",
    "\n",
    "log_plot2 = dcc.Graph(figure=px.line(x=sample_log2, y=sample_depth, title='Well 2'), style={'width': '50%'}, )\n",
    "\n",
    "plots_div = html.Div([log_plot1, log_plot2], style={'display': 'flex'})\n",
    "\n",
    "click_div = html.Div(className='row', children=[        \n",
    "    html.Div([\n",
    "        dcc.Markdown(\"\"\"\n",
    "            **Click Data**\n",
    "\n",
    "            Click on points in the graph.\n",
    "        \"\"\"),\n",
    "        html.Pre(id='click-data', style=styles['pre']),\n",
    "    ], className='three columns')\n",
    "])\n",
    "\n",
    "\n",
    "\n",
    "\n",
    "\n",
    "\n",
    "\n",
    "app.layout = html.Div([title, plots_div, click_div])\n",
    "\n",
    "@app.callback(\n",
    "    Output('click-data', 'children'),\n",
    "    [Input('well_1', 'clickData')])\n",
    "def display_click_data(clickData):\n",
    "    return json.dumps(clickData, indent=2)\n"
   ]
  },
  {
   "cell_type": "code",
   "execution_count": 116,
   "metadata": {},
   "outputs": [
    {
     "data": {
      "text/html": [
       "\n",
       "        <iframe\n",
       "            width=\"800\"\n",
       "            height=\"650\"\n",
       "            src=\"http://127.0.0.1:8002/\"\n",
       "            frameborder=\"0\"\n",
       "            allowfullscreen\n",
       "        ></iframe>\n",
       "        "
      ],
      "text/plain": [
       "<IPython.lib.display.IFrame at 0x7fb5e3c89210>"
      ]
     },
     "metadata": {},
     "output_type": "display_data"
    }
   ],
   "source": [
    "app.run_server(mode='inline', port=8002)"
   ]
  },
  {
   "cell_type": "code",
   "execution_count": 124,
   "metadata": {},
   "outputs": [
    {
     "data": {
      "text/html": [
       "\n",
       "        <iframe\n",
       "            width=\"800\"\n",
       "            height=\"650\"\n",
       "            src=\"http://127.0.0.1:8002/\"\n",
       "            frameborder=\"0\"\n",
       "            allowfullscreen\n",
       "        ></iframe>\n",
       "        "
      ],
      "text/plain": [
       "<IPython.lib.display.IFrame at 0x7fb5e2674910>"
      ]
     },
     "metadata": {},
     "output_type": "display_data"
    }
   ],
   "source": [
    "import json\n",
    "\n",
    "app.layout = html.Div(\n",
    "    [\n",
    "        dcc.Graph(\n",
    "            id=\"basic-interactions\",\n",
    "            figure=px.line(x=sample_log1, y=sample_depth, title=\"Well 1\"),\n",
    "        ),\n",
    "        html.Div(\n",
    "            className=\"row\",\n",
    "            children=[\n",
    "                html.Div(\n",
    "                    [\n",
    "                        dcc.Markdown(\n",
    "                            \"\"\"\n",
    "                **Click Data**\n",
    "\n",
    "                Click on points in the graph.\n",
    "            \"\"\"\n",
    "                        ),\n",
    "                        html.Pre(id=\"click-data\", style=styles[\"pre\"]),\n",
    "                    ],\n",
    "                    className=\"three columns\",\n",
    "                )\n",
    "            ],\n",
    "        ),\n",
    "    ]\n",
    ")\n",
    "\n",
    "\n",
    "@app.callback(\n",
    "    Output(\"click-data\", \"children\"), [Input(\"basic-interactions\", \"clickData\")]\n",
    ")\n",
    "def display_click_data(clickData):\n",
    "    return json.dumps(clickData, indent=2)\n",
    "\n",
    "\n",
    "app.run_server(mode=\"inline\", port=8002)"
   ]
  },
  {
   "cell_type": "code",
   "execution_count": null,
   "metadata": {},
   "outputs": [],
   "source": []
  },
  {
   "cell_type": "code",
   "execution_count": 127,
   "metadata": {},
   "outputs": [
    {
     "data": {
      "text/html": [
       "\n",
       "        <iframe\n",
       "            width=\"800\"\n",
       "            height=\"650\"\n",
       "            src=\"http://127.0.0.1:8003/\"\n",
       "            frameborder=\"0\"\n",
       "            allowfullscreen\n",
       "        ></iframe>\n",
       "        "
      ],
      "text/plain": [
       "<IPython.lib.display.IFrame at 0x7fb5e238dfd0>"
      ]
     },
     "metadata": {},
     "output_type": "display_data"
    }
   ],
   "source": [
    "import json\n",
    "\n",
    "from jupyter_dash import JupyterDash\n",
    "import plotly.express as px\n",
    "\n",
    "import dash\n",
    "import dash_core_components as dcc\n",
    "import dash_html_components as html\n",
    "from dash.dependencies import Input, Output\n",
    "\n",
    "external_stylesheets = [\"https://codepen.io/chriddyp/pen/bWLwgP.css\"]\n",
    "\n",
    "app = JupyterDash(__name__, external_stylesheets=external_stylesheets)\n",
    "\n",
    "styles = {\"pre\": {\"border\": \"thin lightgrey solid\", \"overflowX\": \"scroll\"}}\n",
    "\n",
    "app.layout = html.Div(\n",
    "    [\n",
    "        html.Div(\n",
    "            [\n",
    "                dcc.Graph(\n",
    "                    id=\"well_1\",\n",
    "                    figure=px.line(x=sample_log1, y=sample_depth, title=\"Well 1\"),\n",
    "                    style={\"width\": \"50%\"},\n",
    "                ),\n",
    "                dcc.Graph(\n",
    "                    id=\"well_2\",\n",
    "                    figure=px.line(x=sample_log2, y=sample_depth, title=\"Well 2\"),\n",
    "                    style={\"width\": \"50%\"},\n",
    "                ),\n",
    "            ],\n",
    "            style={\"display\": \"flex\"},\n",
    "        ),\n",
    "        html.Div(\n",
    "            className=\"row\",\n",
    "            children=[\n",
    "                html.Div(\n",
    "                    [\n",
    "                        dcc.Markdown(\n",
    "                            \"\"\"\n",
    "                **Click Data**\n",
    "\n",
    "                Click on points in the graph.\n",
    "            \"\"\"\n",
    "                        ),\n",
    "                        html.Pre(id=\"click-data\", style=styles[\"pre\"]),\n",
    "                    ],\n",
    "                    className=\"three columns\",\n",
    "                )\n",
    "            ],\n",
    "        ),\n",
    "    ]\n",
    ")\n",
    "\n",
    "\n",
    "@app.callback(Output(\"click-data\", \"children\"), [Input(\"well_2\", \"clickData\")])\n",
    "def display_click_data(clickData):\n",
    "    return json.dumps(clickData, indent=2)\n",
    "\n",
    "\n",
    "app.run_server(mode=\"inline\", port=8003)"
   ]
  },
  {
   "cell_type": "code",
   "execution_count": null,
   "metadata": {},
   "outputs": [],
   "source": [
    "fig.update_layout(shapes=[\n",
    "    dict(\n",
    "      type= 'line',\n",
    "      yref= 'paper', y0= 0, y1= 1,\n",
    "      xref= 'x', x0= 5, x1= 5\n",
    "    )\n",
    "])\n",
    "\n"
   ]
  }
 ],
 "metadata": {
  "kernelspec": {
   "display_name": "t20-dash",
   "language": "python",
   "name": "t20-dash"
  },
  "language_info": {
   "codemirror_mode": {
    "name": "ipython",
    "version": 3
   },
   "file_extension": ".py",
   "mimetype": "text/x-python",
   "name": "python",
   "nbconvert_exporter": "python",
   "pygments_lexer": "ipython3",
   "version": "3.7.7"
  }
 },
 "nbformat": 4,
 "nbformat_minor": 4
}
